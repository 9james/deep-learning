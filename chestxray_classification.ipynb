{
  "nbformat": 4,
  "nbformat_minor": 0,
  "metadata": {
    "colab": {
      "name": "chestxray_classification.ipynb",
      "provenance": [],
      "include_colab_link": true
    },
    "kernelspec": {
      "name": "python3",
      "display_name": "Python 3"
    },
    "accelerator": "GPU"
  },
  "cells": [
    {
      "cell_type": "markdown",
      "metadata": {
        "id": "view-in-github",
        "colab_type": "text"
      },
      "source": [
        "<a href=\"https://colab.research.google.com/github/9james/deep-learning/blob/master/chestxray_classification.ipynb\" target=\"_parent\"><img src=\"https://colab.research.google.com/assets/colab-badge.svg\" alt=\"Open In Colab\"/></a>"
      ]
    },
    {
      "cell_type": "code",
      "metadata": {
        "id": "PuQPMITpM1QT",
        "colab_type": "code",
        "colab": {
          "base_uri": "https://localhost:8080/",
          "height": 36
        },
        "outputId": "1875ed46-79e6-4eff-fe97-1e84fb66560e"
      },
      "source": [
        "from google.colab import drive\n",
        "drive.mount('/content/gdrive')"
      ],
      "execution_count": 10,
      "outputs": [
        {
          "output_type": "stream",
          "text": [
            "Drive already mounted at /content/gdrive; to attempt to forcibly remount, call drive.mount(\"/content/gdrive\", force_remount=True).\n"
          ],
          "name": "stdout"
        }
      ]
    },
    {
      "cell_type": "code",
      "metadata": {
        "id": "MIknRppHNbb1",
        "colab_type": "code",
        "colab": {
          "base_uri": "https://localhost:8080/",
          "height": 36
        },
        "outputId": "4ce4cc48-98b6-4909-f813-bddc95674bcb"
      },
      "source": [
        "!ls /content/gdrive/My\\ Drive/dataset/chest_xray"
      ],
      "execution_count": 15,
      "outputs": [
        {
          "output_type": "stream",
          "text": [
            "test  train  val\n"
          ],
          "name": "stdout"
        }
      ]
    },
    {
      "cell_type": "code",
      "metadata": {
        "id": "UY93XN4xKD1Z",
        "colab_type": "code",
        "colab": {
          "base_uri": "https://localhost:8080/",
          "height": 728
        },
        "outputId": "72485800-1d9c-4150-8cdd-6eec662428d3"
      },
      "source": [
        "import tensorflow as tf\n",
        "from keras import layers\n",
        "from keras import models\n",
        "from keras import optimizers\n",
        "\n",
        "model=models.Sequential()\n",
        "model.add(layers.Conv2D(32,(3,3),activation='relu',input_shape=(150,150,3)))\n",
        "model.add(layers.MaxPooling2D((2,2)))\n",
        "model.add(layers.Conv2D(64,(3,3),activation='relu'))\n",
        "model.add(layers.MaxPooling2D((2,2)))\n",
        "model.add(layers.Conv2D(128,(3,3),activation='relu'))\n",
        "model.add(layers.MaxPooling2D((2,2)))\n",
        "model.add(layers.Conv2D(128,(3,3),activation='relu'))\n",
        "model.add(layers.MaxPooling2D((2,2)))\n",
        "model.add(layers.Flatten())\n",
        "model.add(layers.Dense(512,activation='relu'))\n",
        "model.add(layers.Dense(1,activation='sigmoid'))\n",
        "model.summary()\n",
        "\n",
        "model.compile(loss='binary_crossentropy',\n",
        "              optimizer=optimizers.RMSprop(lr=1e-4),\n",
        "              metrics=['acc'])\n",
        "\n",
        "\n"
      ],
      "execution_count": 11,
      "outputs": [
        {
          "output_type": "stream",
          "text": [
            "Model: \"sequential_2\"\n",
            "_________________________________________________________________\n",
            "Layer (type)                 Output Shape              Param #   \n",
            "=================================================================\n",
            "conv2d_5 (Conv2D)            (None, 148, 148, 32)      896       \n",
            "_________________________________________________________________\n",
            "max_pooling2d_5 (MaxPooling2 (None, 74, 74, 32)        0         \n",
            "_________________________________________________________________\n",
            "conv2d_6 (Conv2D)            (None, 72, 72, 64)        18496     \n",
            "_________________________________________________________________\n",
            "max_pooling2d_6 (MaxPooling2 (None, 36, 36, 64)        0         \n",
            "_________________________________________________________________\n",
            "conv2d_7 (Conv2D)            (None, 34, 34, 128)       73856     \n",
            "_________________________________________________________________\n",
            "max_pooling2d_7 (MaxPooling2 (None, 17, 17, 128)       0         \n",
            "_________________________________________________________________\n",
            "conv2d_8 (Conv2D)            (None, 15, 15, 128)       147584    \n",
            "_________________________________________________________________\n",
            "max_pooling2d_8 (MaxPooling2 (None, 7, 7, 128)         0         \n",
            "_________________________________________________________________\n",
            "flatten_2 (Flatten)          (None, 6272)              0         \n",
            "_________________________________________________________________\n",
            "dense_3 (Dense)              (None, 512)               3211776   \n",
            "_________________________________________________________________\n",
            "dense_4 (Dense)              (None, 1)                 513       \n",
            "=================================================================\n",
            "Total params: 3,453,121\n",
            "Trainable params: 3,453,121\n",
            "Non-trainable params: 0\n",
            "_________________________________________________________________\n",
            "WARNING:tensorflow:From /usr/local/lib/python3.6/dist-packages/keras/optimizers.py:793: The name tf.train.Optimizer is deprecated. Please use tf.compat.v1.train.Optimizer instead.\n",
            "\n",
            "WARNING:tensorflow:From /usr/local/lib/python3.6/dist-packages/keras/backend/tensorflow_backend.py:3657: The name tf.log is deprecated. Please use tf.math.log instead.\n",
            "\n",
            "WARNING:tensorflow:From /usr/local/lib/python3.6/dist-packages/tensorflow_core/python/ops/nn_impl.py:183: where (from tensorflow.python.ops.array_ops) is deprecated and will be removed in a future version.\n",
            "Instructions for updating:\n",
            "Use tf.where in 2.0, which has the same broadcast rule as np.where\n"
          ],
          "name": "stdout"
        }
      ]
    },
    {
      "cell_type": "code",
      "metadata": {
        "id": "Or-9F-xMQxa7",
        "colab_type": "code",
        "colab": {
          "base_uri": "https://localhost:8080/",
          "height": 1000
        },
        "outputId": "5d067c4a-1850-45cf-a365-ea2ab2f798d7"
      },
      "source": [
        "from keras.preprocessing.image import ImageDataGenerator\n",
        "\n",
        "train_datagen=ImageDataGenerator(rescale=1./255)\n",
        "val_datagen=ImageDataGenerator(rescale=1./255)\n",
        "test_datagen=ImageDataGenerator(rescale=1./255)\n",
        "\n",
        "train_generator=train_datagen.flow_from_directory(\n",
        "    '/content/gdrive/My Drive/dataset/chest_xray/train',\n",
        "    target_size=(150,150),\n",
        "    batch_size=20,\n",
        "    class_mode='binary'\n",
        ")\n",
        "\n",
        "validation_generator=val_datagen.flow_from_directory(\n",
        "    '/content/gdrive/My Drive/dataset/chest_xray/val',\n",
        "    target_size=(150,150),\n",
        "    batch_size=20,\n",
        "    class_mode='binary'\n",
        ")\n",
        "\n",
        "test_generator=test_datagen.flow_from_directory(\n",
        "    '/content/gdrive/My Drive/dataset/chest_xray/test',\n",
        "     target_size=(150,150),\n",
        "    batch_size=20,\n",
        "    class_mode='binary'\n",
        ")\n",
        "\n",
        "history=model.fit_generator(\n",
        "    train_generator,\n",
        "    steps_per_epoch=100,\n",
        "    epochs=30,\n",
        "    validation_data=validation_generator,\n",
        "    validation_steps=50\n",
        ")\n",
        "\n",
        "\n",
        "\n"
      ],
      "execution_count": 18,
      "outputs": [
        {
          "output_type": "stream",
          "text": [
            "Found 5216 images belonging to 2 classes.\n",
            "Found 16 images belonging to 2 classes.\n",
            "Found 624 images belonging to 2 classes.\n",
            "Epoch 1/30\n",
            "100/100 [==============================] - 33s 327ms/step - loss: 0.1408 - acc: 0.9440 - val_loss: 0.4778 - val_acc: 0.8750\n",
            "Epoch 2/30\n",
            "100/100 [==============================] - 30s 304ms/step - loss: 0.1503 - acc: 0.9311 - val_loss: 0.2946 - val_acc: 0.8125\n",
            "Epoch 3/30\n",
            "100/100 [==============================] - 31s 308ms/step - loss: 0.1139 - acc: 0.9540 - val_loss: 0.5233 - val_acc: 0.8125\n",
            "Epoch 4/30\n",
            "100/100 [==============================] - 31s 308ms/step - loss: 0.1085 - acc: 0.9565 - val_loss: 0.9040 - val_acc: 0.6875\n",
            "Epoch 5/30\n",
            "100/100 [==============================] - 30s 299ms/step - loss: 0.1025 - acc: 0.9620 - val_loss: 0.5901 - val_acc: 0.8125\n",
            "Epoch 6/30\n",
            "100/100 [==============================] - 30s 304ms/step - loss: 0.0923 - acc: 0.9639 - val_loss: 0.2598 - val_acc: 0.9375\n",
            "Epoch 7/30\n",
            "100/100 [==============================] - 30s 301ms/step - loss: 0.0861 - acc: 0.9690 - val_loss: 0.5753 - val_acc: 0.8125\n",
            "Epoch 8/30\n",
            "100/100 [==============================] - 31s 306ms/step - loss: 0.0846 - acc: 0.9645 - val_loss: 0.7051 - val_acc: 0.7500\n",
            "Epoch 9/30\n",
            "100/100 [==============================] - 31s 305ms/step - loss: 0.0787 - acc: 0.9705 - val_loss: 0.2838 - val_acc: 0.8750\n",
            "Epoch 10/30\n",
            "100/100 [==============================] - 31s 305ms/step - loss: 0.0804 - acc: 0.9710 - val_loss: 0.7476 - val_acc: 0.6875\n",
            "Epoch 11/30\n",
            "100/100 [==============================] - 30s 300ms/step - loss: 0.0625 - acc: 0.9730 - val_loss: 0.5515 - val_acc: 0.7500\n",
            "Epoch 12/30\n",
            "100/100 [==============================] - 30s 302ms/step - loss: 0.0707 - acc: 0.9750 - val_loss: 0.5069 - val_acc: 0.8125\n",
            "Epoch 13/30\n",
            "100/100 [==============================] - 30s 298ms/step - loss: 0.0618 - acc: 0.9769 - val_loss: 0.1671 - val_acc: 0.9375\n",
            "Epoch 14/30\n",
            "100/100 [==============================] - 32s 316ms/step - loss: 0.0614 - acc: 0.9766 - val_loss: 1.5602 - val_acc: 0.5625\n",
            "Epoch 15/30\n",
            "100/100 [==============================] - 30s 301ms/step - loss: 0.0689 - acc: 0.9770 - val_loss: 0.1607 - val_acc: 0.8750\n",
            "Epoch 16/30\n",
            "100/100 [==============================] - 31s 307ms/step - loss: 0.0498 - acc: 0.9825 - val_loss: 0.5888 - val_acc: 0.8125\n",
            "Epoch 17/30\n",
            "100/100 [==============================] - 30s 302ms/step - loss: 0.0538 - acc: 0.9800 - val_loss: 0.2340 - val_acc: 0.8750\n",
            "Epoch 18/30\n",
            "100/100 [==============================] - 30s 303ms/step - loss: 0.0551 - acc: 0.9785 - val_loss: 0.4908 - val_acc: 0.7500\n",
            "Epoch 19/30\n",
            "100/100 [==============================] - 30s 299ms/step - loss: 0.0502 - acc: 0.9820 - val_loss: 0.3436 - val_acc: 0.8125\n",
            "Epoch 20/30\n",
            "100/100 [==============================] - 30s 303ms/step - loss: 0.0556 - acc: 0.9785 - val_loss: 0.3090 - val_acc: 0.8125\n",
            "Epoch 21/30\n",
            "100/100 [==============================] - 31s 308ms/step - loss: 0.0435 - acc: 0.9840 - val_loss: 0.3367 - val_acc: 0.8125\n",
            "Epoch 22/30\n",
            "100/100 [==============================] - 30s 298ms/step - loss: 0.0393 - acc: 0.9895 - val_loss: 0.3789 - val_acc: 0.8125\n",
            "Epoch 23/30\n",
            "100/100 [==============================] - 30s 302ms/step - loss: 0.0527 - acc: 0.9798 - val_loss: 1.3794 - val_acc: 0.6875\n",
            "Epoch 24/30\n",
            "100/100 [==============================] - 31s 307ms/step - loss: 0.0290 - acc: 0.9904 - val_loss: 0.4720 - val_acc: 0.8750\n",
            "Epoch 25/30\n",
            "100/100 [==============================] - 31s 306ms/step - loss: 0.0443 - acc: 0.9835 - val_loss: 0.4496 - val_acc: 0.8125\n",
            "Epoch 26/30\n",
            "100/100 [==============================] - 31s 307ms/step - loss: 0.0504 - acc: 0.9835 - val_loss: 0.3044 - val_acc: 0.8750\n",
            "Epoch 27/30\n",
            "100/100 [==============================] - 30s 299ms/step - loss: 0.0318 - acc: 0.9860 - val_loss: 0.2745 - val_acc: 0.8750\n",
            "Epoch 28/30\n",
            "100/100 [==============================] - 31s 306ms/step - loss: 0.0422 - acc: 0.9870 - val_loss: 0.2370 - val_acc: 0.8750\n",
            "Epoch 29/30\n",
            "100/100 [==============================] - 31s 307ms/step - loss: 0.0333 - acc: 0.9895 - val_loss: 0.1176 - val_acc: 0.9375\n",
            "Epoch 30/30\n",
            "100/100 [==============================] - 30s 302ms/step - loss: 0.0326 - acc: 0.9890 - val_loss: 0.2700 - val_acc: 0.8125\n"
          ],
          "name": "stdout"
        },
        {
          "output_type": "error",
          "ename": "NameError",
          "evalue": "ignored",
          "traceback": [
            "\u001b[0;31m---------------------------------------------------------------------------\u001b[0m",
            "\u001b[0;31mNameError\u001b[0m                                 Traceback (most recent call last)",
            "\u001b[0;32m<ipython-input-18-e6cfe8683d56>\u001b[0m in \u001b[0;36m<module>\u001b[0;34m()\u001b[0m\n\u001b[1;32m     34\u001b[0m )\n\u001b[1;32m     35\u001b[0m \u001b[0;34m\u001b[0m\u001b[0m\n\u001b[0;32m---> 36\u001b[0;31m \u001b[0mmodel\u001b[0m\u001b[0;34m.\u001b[0m\u001b[0msave\u001b[0m\u001b[0;34m(\u001b[0m\u001b[0mchestxray1\u001b[0m\u001b[0;34m.\u001b[0m\u001b[0mh5\u001b[0m\u001b[0;34m)\u001b[0m\u001b[0;34m\u001b[0m\u001b[0;34m\u001b[0m\u001b[0m\n\u001b[0m\u001b[1;32m     37\u001b[0m \u001b[0;34m\u001b[0m\u001b[0m\n",
            "\u001b[0;31mNameError\u001b[0m: name 'chestxray1' is not defined"
          ]
        }
      ]
    },
    {
      "cell_type": "code",
      "metadata": {
        "id": "3vRD8BTPtCen",
        "colab_type": "code",
        "colab": {}
      },
      "source": [
        "model.save('/content/gdrive/My Drive/chestxray1.h5')"
      ],
      "execution_count": 0,
      "outputs": []
    },
    {
      "cell_type": "code",
      "metadata": {
        "id": "4GcXolW8tQb1",
        "colab_type": "code",
        "colab": {
          "base_uri": "https://localhost:8080/",
          "height": 36
        },
        "outputId": "8028114b-4ba6-4af0-92d3-94c5d2c708e5"
      },
      "source": [
        "test_loss,test_acc=model.evaluate_generator(test_generator,steps=50)\n",
        "print('test loss: ',test_loss,'  ','test_acc: ',test_acc )"
      ],
      "execution_count": 24,
      "outputs": [
        {
          "output_type": "stream",
          "text": [
            "test loss:  1.1709577703500182    test_acc:  0.7743902451139155\n"
          ],
          "name": "stdout"
        }
      ]
    }
  ]
}