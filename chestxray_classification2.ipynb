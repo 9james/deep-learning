{
  "nbformat": 4,
  "nbformat_minor": 0,
  "metadata": {
    "colab": {
      "name": "chestxray_classification2.ipynb",
      "provenance": [],
      "include_colab_link": true
    },
    "kernelspec": {
      "name": "python3",
      "display_name": "Python 3"
    },
    "accelerator": "GPU"
  },
  "cells": [
    {
      "cell_type": "markdown",
      "metadata": {
        "id": "view-in-github",
        "colab_type": "text"
      },
      "source": [
        "<a href=\"https://colab.research.google.com/github/9james/deep-learning/blob/master/chestxray_classification2.ipynb\" target=\"_parent\"><img src=\"https://colab.research.google.com/assets/colab-badge.svg\" alt=\"Open In Colab\"/></a>"
      ]
    },
    {
      "cell_type": "code",
      "metadata": {
        "id": "Y_nWxEjC3Vvu",
        "colab_type": "code",
        "outputId": "880800fd-aea3-49e4-9cb3-87cf4d4d7cfb",
        "colab": {
          "base_uri": "https://localhost:8080/",
          "height": 34
        }
      },
      "source": [
        "from google.colab import drive\n",
        "drive.mount('/content/gdrive')"
      ],
      "execution_count": 2,
      "outputs": [
        {
          "output_type": "stream",
          "text": [
            "Drive already mounted at /content/gdrive; to attempt to forcibly remount, call drive.mount(\"/content/gdrive\", force_remount=True).\n"
          ],
          "name": "stdout"
        }
      ]
    },
    {
      "cell_type": "code",
      "metadata": {
        "id": "0nqfjhGM3tfC",
        "colab_type": "code",
        "outputId": "9cae0a6f-3e37-4e04-9d70-0871c972ad80",
        "colab": {
          "base_uri": "https://localhost:8080/",
          "height": 527
        }
      },
      "source": [
        "import tensorflow as tf\n",
        "from keras import layers\n",
        "from keras import models\n",
        "from keras import optimizers\n",
        "\n",
        "model=models.Sequential()\n",
        "model.add(layers.Conv2D(32,(3,3),activation='relu',input_shape=(150,150,3)))\n",
        "model.add(layers.MaxPooling2D((2,2)))\n",
        "model.add(layers.Conv2D(64,(3,3),activation='relu'))\n",
        "model.add(layers.MaxPooling2D((2,2)))\n",
        "model.add(layers.Conv2D(128,(3,3),activation='relu'))\n",
        "model.add(layers.MaxPooling2D((2,2)))\n",
        "model.add(layers.Conv2D(128,(3,3),activation='relu'))\n",
        "model.add(layers.MaxPooling2D((2,2)))\n",
        "model.add(layers.Flatten())\n",
        "model.add(layers.Dense(512,activation='relu'))\n",
        "model.add(layers.Dense(1,activation='sigmoid'))\n",
        "model.summary()\n",
        "\n",
        "model.compile(loss='binary_crossentropy',\n",
        "              optimizer=optimizers.Adam(lr=0.003),\n",
        "              metrics=['acc'])\n",
        "\n",
        "\n"
      ],
      "execution_count": 18,
      "outputs": [
        {
          "output_type": "stream",
          "text": [
            "Model: \"sequential_5\"\n",
            "_________________________________________________________________\n",
            "Layer (type)                 Output Shape              Param #   \n",
            "=================================================================\n",
            "conv2d_17 (Conv2D)           (None, 148, 148, 32)      896       \n",
            "_________________________________________________________________\n",
            "max_pooling2d_17 (MaxPooling (None, 74, 74, 32)        0         \n",
            "_________________________________________________________________\n",
            "conv2d_18 (Conv2D)           (None, 72, 72, 64)        18496     \n",
            "_________________________________________________________________\n",
            "max_pooling2d_18 (MaxPooling (None, 36, 36, 64)        0         \n",
            "_________________________________________________________________\n",
            "conv2d_19 (Conv2D)           (None, 34, 34, 128)       73856     \n",
            "_________________________________________________________________\n",
            "max_pooling2d_19 (MaxPooling (None, 17, 17, 128)       0         \n",
            "_________________________________________________________________\n",
            "conv2d_20 (Conv2D)           (None, 15, 15, 128)       147584    \n",
            "_________________________________________________________________\n",
            "max_pooling2d_20 (MaxPooling (None, 7, 7, 128)         0         \n",
            "_________________________________________________________________\n",
            "flatten_5 (Flatten)          (None, 6272)              0         \n",
            "_________________________________________________________________\n",
            "dense_9 (Dense)              (None, 512)               3211776   \n",
            "_________________________________________________________________\n",
            "dense_10 (Dense)             (None, 1)                 513       \n",
            "=================================================================\n",
            "Total params: 3,453,121\n",
            "Trainable params: 3,453,121\n",
            "Non-trainable params: 0\n",
            "_________________________________________________________________\n"
          ],
          "name": "stdout"
        }
      ]
    },
    {
      "cell_type": "code",
      "metadata": {
        "id": "nzswNIzQ30EF",
        "colab_type": "code",
        "outputId": "e271fb37-aa16-48c0-a34f-9f99baeb5dc1",
        "colab": {
          "base_uri": "https://localhost:8080/",
          "height": 68
        }
      },
      "source": [
        "from keras.preprocessing.image import ImageDataGenerator\n",
        "\n",
        "train_datagen=ImageDataGenerator(rescale=1./255)\n",
        "val_datagen=ImageDataGenerator(rescale=1./255)\n",
        "test_datagen=ImageDataGenerator(rescale=1./255)\n",
        "\n",
        "train_generator=train_datagen.flow_from_directory(\n",
        "    '/content/gdrive/My Drive/dataset/chest_xray/train',\n",
        "    target_size=(150,150),\n",
        "    batch_size=20,\n",
        "    class_mode='binary'\n",
        ")\n",
        "\n",
        "validation_generator=val_datagen.flow_from_directory(\n",
        "    '/content/gdrive/My Drive/dataset/chest_xray/val',\n",
        "    target_size=(150,150),\n",
        "    batch_size=20,\n",
        "    class_mode='binary'\n",
        ")\n",
        "\n",
        "test_generator=test_datagen.flow_from_directory(\n",
        "    '/content/gdrive/My Drive/dataset/chest_xray/test',\n",
        "     target_size=(150,150),\n",
        "    batch_size=20,\n",
        "    class_mode='binary'\n",
        ")\n",
        "\n",
        "\n",
        "\n",
        "\n",
        "\n"
      ],
      "execution_count": 19,
      "outputs": [
        {
          "output_type": "stream",
          "text": [
            "Found 5216 images belonging to 2 classes.\n",
            "Found 16 images belonging to 2 classes.\n",
            "Found 624 images belonging to 2 classes.\n"
          ],
          "name": "stdout"
        }
      ]
    },
    {
      "cell_type": "code",
      "metadata": {
        "id": "AKCXsd5v37Cm",
        "colab_type": "code",
        "outputId": "85125f0b-849f-4125-c978-3094f7624736",
        "colab": {
          "base_uri": "https://localhost:8080/",
          "height": 1000
        }
      },
      "source": [
        "history=model.fit_generator(\n",
        "    train_generator,\n",
        "    steps_per_epoch=100,\n",
        "    epochs=30,\n",
        "    validation_data=validation_generator,\n",
        "    validation_steps=50\n",
        ")"
      ],
      "execution_count": 20,
      "outputs": [
        {
          "output_type": "stream",
          "text": [
            "Epoch 1/30\n",
            "100/100 [==============================] - 38s 376ms/step - loss: 0.5838 - acc: 0.7426 - val_loss: 0.6408 - val_acc: 0.7500\n",
            "Epoch 2/30\n",
            "100/100 [==============================] - 34s 343ms/step - loss: 0.3750 - acc: 0.8250 - val_loss: 0.5979 - val_acc: 0.6875\n",
            "Epoch 3/30\n",
            "100/100 [==============================] - 35s 347ms/step - loss: 0.3136 - acc: 0.8677 - val_loss: 0.7764 - val_acc: 0.6875\n",
            "Epoch 4/30\n",
            "100/100 [==============================] - 35s 346ms/step - loss: 0.3288 - acc: 0.8555 - val_loss: 0.3637 - val_acc: 0.8125\n",
            "Epoch 5/30\n",
            "100/100 [==============================] - 33s 332ms/step - loss: 0.2211 - acc: 0.9115 - val_loss: 0.1843 - val_acc: 0.9375\n",
            "Epoch 6/30\n",
            "100/100 [==============================] - 34s 341ms/step - loss: 0.1620 - acc: 0.9420 - val_loss: 0.1697 - val_acc: 0.9375\n",
            "Epoch 7/30\n",
            "100/100 [==============================] - 34s 341ms/step - loss: 0.1347 - acc: 0.9505 - val_loss: 0.2903 - val_acc: 0.8750\n",
            "Epoch 8/30\n",
            "100/100 [==============================] - 34s 340ms/step - loss: 0.1171 - acc: 0.9620 - val_loss: 0.1818 - val_acc: 0.8750\n",
            "Epoch 9/30\n",
            "100/100 [==============================] - 35s 348ms/step - loss: 0.0833 - acc: 0.9690 - val_loss: 0.5434 - val_acc: 0.7500\n",
            "Epoch 10/30\n",
            "100/100 [==============================] - 35s 349ms/step - loss: 0.0972 - acc: 0.9680 - val_loss: 0.6261 - val_acc: 0.8125\n",
            "Epoch 11/30\n",
            "100/100 [==============================] - 35s 349ms/step - loss: 0.0693 - acc: 0.9750 - val_loss: 0.7953 - val_acc: 0.8125\n",
            "Epoch 12/30\n",
            "100/100 [==============================] - 35s 347ms/step - loss: 0.0673 - acc: 0.9760 - val_loss: 0.1417 - val_acc: 0.9375\n",
            "Epoch 13/30\n",
            "100/100 [==============================] - 33s 334ms/step - loss: 0.0753 - acc: 0.9695 - val_loss: 0.2051 - val_acc: 0.8750\n",
            "Epoch 14/30\n",
            "100/100 [==============================] - 37s 365ms/step - loss: 0.0956 - acc: 0.9705 - val_loss: 0.1660 - val_acc: 0.9375\n",
            "Epoch 15/30\n",
            "100/100 [==============================] - 34s 342ms/step - loss: 0.0984 - acc: 0.9660 - val_loss: 0.1258 - val_acc: 0.9375\n",
            "Epoch 16/30\n",
            "100/100 [==============================] - 35s 346ms/step - loss: 0.0585 - acc: 0.9790 - val_loss: 0.5443 - val_acc: 0.7500\n",
            "Epoch 17/30\n",
            "100/100 [==============================] - 34s 341ms/step - loss: 0.0577 - acc: 0.9780 - val_loss: 0.0487 - val_acc: 1.0000\n",
            "Epoch 18/30\n",
            "100/100 [==============================] - 35s 347ms/step - loss: 0.0752 - acc: 0.9730 - val_loss: 0.0313 - val_acc: 1.0000\n",
            "Epoch 19/30\n",
            "100/100 [==============================] - 35s 345ms/step - loss: 0.0391 - acc: 0.9829 - val_loss: 0.1337 - val_acc: 0.8750\n",
            "Epoch 20/30\n",
            "100/100 [==============================] - 34s 343ms/step - loss: 0.0357 - acc: 0.9850 - val_loss: 0.2516 - val_acc: 0.8125\n",
            "Epoch 21/30\n",
            "100/100 [==============================] - 35s 354ms/step - loss: 0.0478 - acc: 0.9835 - val_loss: 0.5312 - val_acc: 0.8750\n",
            "Epoch 22/30\n",
            "100/100 [==============================] - 34s 342ms/step - loss: 0.0298 - acc: 0.9895 - val_loss: 0.0080 - val_acc: 1.0000\n",
            "Epoch 23/30\n",
            "100/100 [==============================] - 35s 346ms/step - loss: 0.0388 - acc: 0.9850 - val_loss: 0.2775 - val_acc: 0.8750\n",
            "Epoch 24/30\n",
            "100/100 [==============================] - 35s 347ms/step - loss: 0.0304 - acc: 0.9895 - val_loss: 0.2765 - val_acc: 0.8750\n",
            "Epoch 25/30\n",
            "100/100 [==============================] - 35s 347ms/step - loss: 0.0382 - acc: 0.9860 - val_loss: 0.5845 - val_acc: 0.6875\n",
            "Epoch 26/30\n",
            "100/100 [==============================] - 34s 341ms/step - loss: 0.0225 - acc: 0.9915 - val_loss: 0.2628 - val_acc: 0.8750\n",
            "Epoch 27/30\n",
            "100/100 [==============================] - 34s 344ms/step - loss: 0.0284 - acc: 0.9865 - val_loss: 0.6665 - val_acc: 0.7500\n",
            "Epoch 28/30\n",
            "100/100 [==============================] - 35s 348ms/step - loss: 0.0290 - acc: 0.9895 - val_loss: 0.0984 - val_acc: 0.9375\n",
            "Epoch 29/30\n",
            "100/100 [==============================] - 35s 348ms/step - loss: 0.0338 - acc: 0.9875 - val_loss: 0.0282 - val_acc: 1.0000\n",
            "Epoch 30/30\n",
            "100/100 [==============================] - 34s 344ms/step - loss: 0.0092 - acc: 0.9975 - val_loss: 0.0057 - val_acc: 1.0000\n"
          ],
          "name": "stdout"
        }
      ]
    },
    {
      "cell_type": "code",
      "metadata": {
        "id": "JMAAjkKL4M47",
        "colab_type": "code",
        "colab": {}
      },
      "source": [
        "model.save('/content/gdrive/My Drive/chestxray2.h5')"
      ],
      "execution_count": 0,
      "outputs": []
    },
    {
      "cell_type": "code",
      "metadata": {
        "id": "WFIMoHYh4Rlv",
        "colab_type": "code",
        "outputId": "1e5b6eaf-ee04-4726-9dcc-362acecc218e",
        "colab": {
          "base_uri": "https://localhost:8080/",
          "height": 34
        }
      },
      "source": [
        "test_loss,test_acc=model.evaluate_generator(test_generator,steps=50)\n",
        "print('test loss: ',test_loss,'  ','test_acc: ',test_acc )"
      ],
      "execution_count": 22,
      "outputs": [
        {
          "output_type": "stream",
          "text": [
            "test loss:  1.9973070051490776    test_acc:  0.7571138194421443\n"
          ],
          "name": "stdout"
        }
      ]
    },
    {
      "cell_type": "code",
      "metadata": {
        "id": "PQVKneis4Uap",
        "colab_type": "code",
        "colab": {
          "base_uri": "https://localhost:8080/",
          "height": 545
        },
        "outputId": "21acacc4-8086-497e-ef5d-0e6bd14b7538"
      },
      "source": [
        "import matplotlib.pyplot as plt\n",
        "\n",
        "acc=history.history['acc']\n",
        "val_acc=history.history['val_acc']\n",
        "loss=history.history['loss']\n",
        "val_loss=history.history['val_loss']\n",
        "\n",
        "epochs=range(1,len(acc)+1)\n",
        "\n",
        "plt.plot(epochs, acc, 'bo',label='Training acc')\n",
        "plt.plot(epochs,val_acc,'b',label='Validation acc')\n",
        "plt.title('Training and validation accuracy')\n",
        "plt.legend()\n",
        "\n",
        "plt.figure()\n",
        "\n",
        "plt.plot(epochs,loss,'bo',label='Training loss')\n",
        "plt.plot(epochs,val_loss,'b',label='Validation loss')\n",
        "plt.title('Training and validation loss')\n",
        "plt.legend()\n",
        "\n",
        "plt.show()\n"
      ],
      "execution_count": 23,
      "outputs": [
        {
          "output_type": "display_data",
          "data": {
            "image/png": "[encoded data removed]",
            "text/plain": [
              "<Figure size 432x288 with 1 Axes>"
            ]
          },
          "metadata": {
            "tags": []
          }
        },
        {
          "output_type": "display_data",
          "data": {
            "image/png": "[encoded data removed]",
            "text/plain": [
              "<Figure size 432x288 with 1 Axes>"
            ]
          },
          "metadata": {
            "tags": []
          }
        }
      ]
    },
    {
      "cell_type": "code",
      "metadata": {
        "id": "iHBmti1xX3_5",
        "colab_type": "code",
        "colab": {}
      },
      "source": [
        ""
      ],
      "execution_count": 0,
      "outputs": []
    }
  ]
}