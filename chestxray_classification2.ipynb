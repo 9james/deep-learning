{
  "nbformat": 4,
  "nbformat_minor": 0,
  "metadata": {
    "colab": {
      "name": "chestxray_classification2.ipynb",
      "provenance": [],
      "include_colab_link": true
    },
    "kernelspec": {
      "name": "python3",
      "display_name": "Python 3"
    },
    "accelerator": "GPU"
  },
  "cells": [
    {
      "cell_type": "markdown",
      "metadata": {
        "id": "view-in-github",
        "colab_type": "text"
      },
      "source": [
        "<a href=\"https://colab.research.google.com/github/9james/deep-learning/blob/master/chestxray_classification2.ipynb\" target=\"_parent\"><img src=\"https://colab.research.google.com/assets/colab-badge.svg\" alt=\"Open In Colab\"/></a>"
      ]
    },
    {
      "cell_type": "code",
      "metadata": {
        "id": "Y_nWxEjC3Vvu",
        "colab_type": "code",
        "colab": {
          "base_uri": "https://localhost:8080/",
          "height": 131
        },
        "outputId": "2bc9d84f-6602-42d1-80f3-f18d0ec413bd"
      },
      "source": [
        "from google.colab import drive\n",
        "drive.mount('/content/gdrive')"
      ],
      "execution_count": 1,
      "outputs": [
        {
          "output_type": "stream",
          "text": [
            "Go to this URL in a browser: https://accounts.google.com/o/oauth2/auth?client_id=947318989803-6bn6qk8qdgf4n4g3pfee6491hc0brc4i.apps.googleusercontent.com&redirect_uri=urn%3aietf%3awg%3aoauth%3a2.0%3aoob&response_type=code&scope=email%20https%3a%2f%2fwww.googleapis.com%2fauth%2fdocs.test%20https%3a%2f%2fwww.googleapis.com%2fauth%2fdrive%20https%3a%2f%2fwww.googleapis.com%2fauth%2fdrive.photos.readonly%20https%3a%2f%2fwww.googleapis.com%2fauth%2fpeopleapi.readonly\n",
            "\n",
            "Enter your authorization code:\n",
            "··········\n",
            "Mounted at /content/gdrive\n"
          ],
          "name": "stdout"
        }
      ]
    },
    {
      "cell_type": "code",
      "metadata": {
        "id": "0nqfjhGM3tfC",
        "colab_type": "code",
        "colab": {
          "base_uri": "https://localhost:8080/",
          "height": 944
        },
        "outputId": "685bd118-1530-4a14-824f-0fe1a9e62d6f"
      },
      "source": [
        "import tensorflow as tf\n",
        "from keras import layers\n",
        "from keras import models\n",
        "from keras import optimizers\n",
        "\n",
        "model=models.Sequential()\n",
        "model.add(layers.Conv2D(32,(3,3),activation='relu',input_shape=(150,150,3)))\n",
        "model.add(layers.MaxPooling2D((2,2)))\n",
        "model.add(layers.Conv2D(64,(3,3),activation='relu'))\n",
        "model.add(layers.MaxPooling2D((2,2)))\n",
        "model.add(layers.Conv2D(128,(3,3),activation='relu'))\n",
        "model.add(layers.MaxPooling2D((2,2)))\n",
        "model.add(layers.Conv2D(128,(3,3),activation='relu'))\n",
        "model.add(layers.MaxPooling2D((2,2)))\n",
        "model.add(layers.Flatten())\n",
        "model.add(layers.Dense(512,activation='relu'))\n",
        "model.add(layers.Dense(1,activation='sigmoid'))\n",
        "model.summary()\n",
        "\n",
        "model.compile(loss='binary_crossentropy',\n",
        "              optimizer=optimizers.RMSprop(lr=1e-4),\n",
        "              metrics=['acc'])\n",
        "\n",
        "\n"
      ],
      "execution_count": 2,
      "outputs": [
        {
          "output_type": "display_data",
          "data": {
            "text/html": [
              "<p style=\"color: red;\">\n",
              "The default version of TensorFlow in Colab will soon switch to TensorFlow 2.x.<br>\n",
              "We recommend you <a href=\"https://www.tensorflow.org/guide/migrate\" target=\"_blank\">upgrade</a> now \n",
              "or ensure your notebook will continue to use TensorFlow 1.x via the <code>%tensorflow_version 1.x</code> magic:\n",
              "<a href=\"https://colab.research.google.com/notebooks/tensorflow_version.ipynb\" target=\"_blank\">more info</a>.</p>\n"
            ],
            "text/plain": [
              "<IPython.core.display.HTML object>"
            ]
          },
          "metadata": {
            "tags": []
          }
        },
        {
          "output_type": "stream",
          "text": [
            "WARNING:tensorflow:From /usr/local/lib/python3.6/dist-packages/keras/backend/tensorflow_backend.py:66: The name tf.get_default_graph is deprecated. Please use tf.compat.v1.get_default_graph instead.\n",
            "\n",
            "WARNING:tensorflow:From /usr/local/lib/python3.6/dist-packages/keras/backend/tensorflow_backend.py:541: The name tf.placeholder is deprecated. Please use tf.compat.v1.placeholder instead.\n",
            "\n",
            "WARNING:tensorflow:From /usr/local/lib/python3.6/dist-packages/keras/backend/tensorflow_backend.py:4432: The name tf.random_uniform is deprecated. Please use tf.random.uniform instead.\n",
            "\n",
            "WARNING:tensorflow:From /usr/local/lib/python3.6/dist-packages/keras/backend/tensorflow_backend.py:4267: The name tf.nn.max_pool is deprecated. Please use tf.nn.max_pool2d instead.\n",
            "\n",
            "Model: \"sequential_1\"\n",
            "_________________________________________________________________\n",
            "Layer (type)                 Output Shape              Param #   \n",
            "=================================================================\n",
            "conv2d_1 (Conv2D)            (None, 148, 148, 32)      896       \n",
            "_________________________________________________________________\n",
            "max_pooling2d_1 (MaxPooling2 (None, 74, 74, 32)        0         \n",
            "_________________________________________________________________\n",
            "conv2d_2 (Conv2D)            (None, 72, 72, 64)        18496     \n",
            "_________________________________________________________________\n",
            "max_pooling2d_2 (MaxPooling2 (None, 36, 36, 64)        0         \n",
            "_________________________________________________________________\n",
            "conv2d_3 (Conv2D)            (None, 34, 34, 128)       73856     \n",
            "_________________________________________________________________\n",
            "max_pooling2d_3 (MaxPooling2 (None, 17, 17, 128)       0         \n",
            "_________________________________________________________________\n",
            "conv2d_4 (Conv2D)            (None, 15, 15, 128)       147584    \n",
            "_________________________________________________________________\n",
            "max_pooling2d_4 (MaxPooling2 (None, 7, 7, 128)         0         \n",
            "_________________________________________________________________\n",
            "flatten_1 (Flatten)          (None, 6272)              0         \n",
            "_________________________________________________________________\n",
            "dense_1 (Dense)              (None, 512)               3211776   \n",
            "_________________________________________________________________\n",
            "dense_2 (Dense)              (None, 1)                 513       \n",
            "=================================================================\n",
            "Total params: 3,453,121\n",
            "Trainable params: 3,453,121\n",
            "Non-trainable params: 0\n",
            "_________________________________________________________________\n",
            "WARNING:tensorflow:From /usr/local/lib/python3.6/dist-packages/keras/optimizers.py:793: The name tf.train.Optimizer is deprecated. Please use tf.compat.v1.train.Optimizer instead.\n",
            "\n",
            "WARNING:tensorflow:From /usr/local/lib/python3.6/dist-packages/keras/backend/tensorflow_backend.py:3657: The name tf.log is deprecated. Please use tf.math.log instead.\n",
            "\n",
            "WARNING:tensorflow:From /usr/local/lib/python3.6/dist-packages/tensorflow_core/python/ops/nn_impl.py:183: where (from tensorflow.python.ops.array_ops) is deprecated and will be removed in a future version.\n",
            "Instructions for updating:\n",
            "Use tf.where in 2.0, which has the same broadcast rule as np.where\n"
          ],
          "name": "stdout"
        },
        {
          "output_type": "stream",
          "text": [
            "Using TensorFlow backend.\n"
          ],
          "name": "stderr"
        }
      ]
    },
    {
      "cell_type": "code",
      "metadata": {
        "id": "nzswNIzQ30EF",
        "colab_type": "code",
        "colab": {
          "base_uri": "https://localhost:8080/",
          "height": 73
        },
        "outputId": "7a1cabaa-fc99-41c9-ac6d-7b5528eb5c66"
      },
      "source": [
        "from keras.preprocessing.image import ImageDataGenerator\n",
        "\n",
        "train_datagen=ImageDataGenerator(rescale=1./255)\n",
        "val_datagen=ImageDataGenerator(rescale=1./255)\n",
        "test_datagen=ImageDataGenerator(rescale=1./255)\n",
        "\n",
        "train_generator=train_datagen.flow_from_directory(\n",
        "    '/content/gdrive/My Drive/dataset/chest_xray/train',\n",
        "    target_size=(150,150),\n",
        "    batch_size=20,\n",
        "    class_mode='binary'\n",
        ")\n",
        "\n",
        "validation_generator=val_datagen.flow_from_directory(\n",
        "    '/content/gdrive/My Drive/dataset/chest_xray/val',\n",
        "    target_size=(150,150),\n",
        "    batch_size=20,\n",
        "    class_mode='binary'\n",
        ")\n",
        "\n",
        "test_generator=test_datagen.flow_from_directory(\n",
        "    '/content/gdrive/My Drive/dataset/chest_xray/test',\n",
        "     target_size=(150,150),\n",
        "    batch_size=20,\n",
        "    class_mode='binary'\n",
        ")\n",
        "\n",
        "\n",
        "\n",
        "\n",
        "\n"
      ],
      "execution_count": 3,
      "outputs": [
        {
          "output_type": "stream",
          "text": [
            "Found 5216 images belonging to 2 classes.\n",
            "Found 16 images belonging to 2 classes.\n",
            "Found 624 images belonging to 2 classes.\n"
          ],
          "name": "stdout"
        }
      ]
    },
    {
      "cell_type": "code",
      "metadata": {
        "id": "AKCXsd5v37Cm",
        "colab_type": "code",
        "colab": {
          "base_uri": "https://localhost:8080/",
          "height": 1000
        },
        "outputId": "a4d3dd30-5211-483b-9636-fca5b5c5accc"
      },
      "source": [
        "history=model.fit_generator(\n",
        "    train_generator,\n",
        "    steps_per_epoch=100,\n",
        "    epochs=30,\n",
        "    validation_data=validation_generator,\n",
        "    validation_steps=50\n",
        ")"
      ],
      "execution_count": 4,
      "outputs": [
        {
          "output_type": "stream",
          "text": [
            "WARNING:tensorflow:From /usr/local/lib/python3.6/dist-packages/keras/backend/tensorflow_backend.py:1033: The name tf.assign_add is deprecated. Please use tf.compat.v1.assign_add instead.\n",
            "\n",
            "WARNING:tensorflow:From /usr/local/lib/python3.6/dist-packages/keras/backend/tensorflow_backend.py:1020: The name tf.assign is deprecated. Please use tf.compat.v1.assign instead.\n",
            "\n",
            "WARNING:tensorflow:From /usr/local/lib/python3.6/dist-packages/keras/backend/tensorflow_backend.py:3005: The name tf.Session is deprecated. Please use tf.compat.v1.Session instead.\n",
            "\n",
            "Epoch 1/30\n",
            "WARNING:tensorflow:From /usr/local/lib/python3.6/dist-packages/keras/backend/tensorflow_backend.py:190: The name tf.get_default_session is deprecated. Please use tf.compat.v1.get_default_session instead.\n",
            "\n",
            "WARNING:tensorflow:From /usr/local/lib/python3.6/dist-packages/keras/backend/tensorflow_backend.py:197: The name tf.ConfigProto is deprecated. Please use tf.compat.v1.ConfigProto instead.\n",
            "\n",
            "WARNING:tensorflow:From /usr/local/lib/python3.6/dist-packages/keras/backend/tensorflow_backend.py:207: The name tf.global_variables is deprecated. Please use tf.compat.v1.global_variables instead.\n",
            "\n",
            "WARNING:tensorflow:From /usr/local/lib/python3.6/dist-packages/keras/backend/tensorflow_backend.py:216: The name tf.is_variable_initialized is deprecated. Please use tf.compat.v1.is_variable_initialized instead.\n",
            "\n",
            "WARNING:tensorflow:From /usr/local/lib/python3.6/dist-packages/keras/backend/tensorflow_backend.py:223: The name tf.variables_initializer is deprecated. Please use tf.compat.v1.variables_initializer instead.\n",
            "\n",
            "100/100 [==============================] - 914s 9s/step - loss: 0.4621 - acc: 0.8016 - val_loss: 0.6895 - val_acc: 0.6250\n",
            "Epoch 2/30\n",
            "100/100 [==============================] - 876s 9s/step - loss: 0.2676 - acc: 0.8940 - val_loss: 0.4456 - val_acc: 0.8750\n",
            "Epoch 3/30\n",
            "100/100 [==============================] - 538s 5s/step - loss: 0.1724 - acc: 0.9259 - val_loss: 0.9885 - val_acc: 0.6250\n",
            "Epoch 4/30\n",
            "100/100 [==============================] - 32s 318ms/step - loss: 0.1494 - acc: 0.9425 - val_loss: 0.7495 - val_acc: 0.6250\n",
            "Epoch 5/30\n",
            "100/100 [==============================] - 32s 316ms/step - loss: 0.1186 - acc: 0.9545 - val_loss: 0.3591 - val_acc: 0.8750\n",
            "Epoch 6/30\n",
            "100/100 [==============================] - 32s 317ms/step - loss: 0.1125 - acc: 0.9560 - val_loss: 0.4851 - val_acc: 0.8125\n",
            "Epoch 7/30\n",
            "100/100 [==============================] - 31s 314ms/step - loss: 0.1183 - acc: 0.9545 - val_loss: 0.4989 - val_acc: 0.8125\n",
            "Epoch 8/30\n",
            "100/100 [==============================] - 31s 313ms/step - loss: 0.1047 - acc: 0.9645 - val_loss: 0.7827 - val_acc: 0.6875\n",
            "Epoch 9/30\n",
            "100/100 [==============================] - 32s 316ms/step - loss: 0.0941 - acc: 0.9659 - val_loss: 0.4158 - val_acc: 0.8125\n",
            "Epoch 10/30\n",
            "100/100 [==============================] - 31s 311ms/step - loss: 0.0882 - acc: 0.9620 - val_loss: 0.2735 - val_acc: 0.8125\n",
            "Epoch 11/30\n",
            "100/100 [==============================] - 31s 309ms/step - loss: 0.0890 - acc: 0.9645 - val_loss: 0.2247 - val_acc: 0.9375\n",
            "Epoch 12/30\n",
            "100/100 [==============================] - 32s 322ms/step - loss: 0.0661 - acc: 0.9744 - val_loss: 1.4289 - val_acc: 0.6250\n",
            "Epoch 13/30\n",
            "100/100 [==============================] - 31s 307ms/step - loss: 0.0884 - acc: 0.9670 - val_loss: 0.4982 - val_acc: 0.8125\n",
            "Epoch 14/30\n",
            "100/100 [==============================] - 32s 321ms/step - loss: 0.0756 - acc: 0.9720 - val_loss: 0.8319 - val_acc: 0.6250\n",
            "Epoch 15/30\n",
            "100/100 [==============================] - 31s 311ms/step - loss: 0.0641 - acc: 0.9765 - val_loss: 0.5700 - val_acc: 0.7500\n",
            "Epoch 16/30\n",
            "100/100 [==============================] - 32s 324ms/step - loss: 0.0778 - acc: 0.9710 - val_loss: 0.3073 - val_acc: 0.8125\n",
            "Epoch 17/30\n",
            "100/100 [==============================] - 32s 321ms/step - loss: 0.0643 - acc: 0.9780 - val_loss: 0.9235 - val_acc: 0.6250\n",
            "Epoch 18/30\n",
            "100/100 [==============================] - 31s 314ms/step - loss: 0.0599 - acc: 0.9780 - val_loss: 0.2456 - val_acc: 0.8125\n",
            "Epoch 19/30\n",
            "100/100 [==============================] - 31s 312ms/step - loss: 0.0576 - acc: 0.9780 - val_loss: 1.2116 - val_acc: 0.6250\n",
            "Epoch 20/30\n",
            "100/100 [==============================] - 31s 314ms/step - loss: 0.0525 - acc: 0.9799 - val_loss: 0.6827 - val_acc: 0.6875\n",
            "Epoch 21/30\n",
            "100/100 [==============================] - 31s 311ms/step - loss: 0.0644 - acc: 0.9750 - val_loss: 1.3425 - val_acc: 0.6250\n",
            "Epoch 22/30\n",
            "100/100 [==============================] - 31s 310ms/step - loss: 0.0446 - acc: 0.9825 - val_loss: 0.3373 - val_acc: 0.8125\n",
            "Epoch 23/30\n",
            "100/100 [==============================] - 32s 322ms/step - loss: 0.0571 - acc: 0.9810 - val_loss: 0.6860 - val_acc: 0.8125\n",
            "Epoch 24/30\n",
            "100/100 [==============================] - 31s 308ms/step - loss: 0.0441 - acc: 0.9833 - val_loss: 0.5087 - val_acc: 0.8125\n",
            "Epoch 25/30\n",
            "100/100 [==============================] - 31s 312ms/step - loss: 0.0470 - acc: 0.9810 - val_loss: 0.4581 - val_acc: 0.8125\n",
            "Epoch 26/30\n",
            "100/100 [==============================] - 31s 308ms/step - loss: 0.0509 - acc: 0.9810 - val_loss: 0.4918 - val_acc: 0.8125\n",
            "Epoch 27/30\n",
            "100/100 [==============================] - 32s 317ms/step - loss: 0.0414 - acc: 0.9865 - val_loss: 0.2817 - val_acc: 0.8125\n",
            "Epoch 28/30\n",
            "100/100 [==============================] - 31s 314ms/step - loss: 0.0458 - acc: 0.9850 - val_loss: 0.3263 - val_acc: 0.8750\n",
            "Epoch 29/30\n",
            "100/100 [==============================] - 31s 312ms/step - loss: 0.0319 - acc: 0.9880 - val_loss: 0.2842 - val_acc: 0.8750\n",
            "Epoch 30/30\n",
            "100/100 [==============================] - 31s 314ms/step - loss: 0.0428 - acc: 0.9825 - val_loss: 0.6399 - val_acc: 0.7500\n"
          ],
          "name": "stdout"
        }
      ]
    },
    {
      "cell_type": "code",
      "metadata": {
        "id": "JMAAjkKL4M47",
        "colab_type": "code",
        "colab": {}
      },
      "source": [
        "model.save('/content/gdrive/My Drive/chestxray2.h5')"
      ],
      "execution_count": 0,
      "outputs": []
    },
    {
      "cell_type": "code",
      "metadata": {
        "id": "WFIMoHYh4Rlv",
        "colab_type": "code",
        "colab": {
          "base_uri": "https://localhost:8080/",
          "height": 195
        },
        "outputId": "a9a3637a-e76d-449c-d01e-db2aa03002cc"
      },
      "source": [
        "test_loss,test_acc=model.evaluate_generator(test_generator,steps=50)\n",
        "print('test loss: ',test_loss,'  ','test_acc: ',test_acc )"
      ],
      "execution_count": 3,
      "outputs": [
        {
          "output_type": "error",
          "ename": "NameError",
          "evalue": "ignored",
          "traceback": [
            "\u001b[0;31m---------------------------------------------------------------------------\u001b[0m",
            "\u001b[0;31mNameError\u001b[0m                                 Traceback (most recent call last)",
            "\u001b[0;32m<ipython-input-3-bc0cf9286701>\u001b[0m in \u001b[0;36m<module>\u001b[0;34m()\u001b[0m\n\u001b[0;32m----> 1\u001b[0;31m \u001b[0mtest_loss\u001b[0m\u001b[0;34m,\u001b[0m\u001b[0mtest_acc\u001b[0m\u001b[0;34m=\u001b[0m\u001b[0mmodel\u001b[0m\u001b[0;34m.\u001b[0m\u001b[0mevaluate_generator\u001b[0m\u001b[0;34m(\u001b[0m\u001b[0mtest_generator\u001b[0m\u001b[0;34m,\u001b[0m\u001b[0msteps\u001b[0m\u001b[0;34m=\u001b[0m\u001b[0;36m50\u001b[0m\u001b[0;34m)\u001b[0m\u001b[0;34m\u001b[0m\u001b[0;34m\u001b[0m\u001b[0m\n\u001b[0m\u001b[1;32m      2\u001b[0m \u001b[0mprint\u001b[0m\u001b[0;34m(\u001b[0m\u001b[0;34m'test loss: '\u001b[0m\u001b[0;34m,\u001b[0m\u001b[0mtest_loss\u001b[0m\u001b[0;34m,\u001b[0m\u001b[0;34m'  '\u001b[0m\u001b[0;34m,\u001b[0m\u001b[0;34m'test_acc: '\u001b[0m\u001b[0;34m,\u001b[0m\u001b[0mtest_acc\u001b[0m \u001b[0;34m)\u001b[0m\u001b[0;34m\u001b[0m\u001b[0;34m\u001b[0m\u001b[0m\n",
            "\u001b[0;31mNameError\u001b[0m: name 'model' is not defined"
          ]
        }
      ]
    },
    {
      "cell_type": "code",
      "metadata": {
        "id": "PQVKneis4Uap",
        "colab_type": "code",
        "colab": {}
      },
      "source": [
        "import matplotlib.pyplot as plt\n",
        "\n",
        "acc=history.history['acc']\n",
        "val_acc=history.history['val_acc']\n",
        "loss=history.history['loss']\n",
        "val_loss=history.history['val_loss']\n",
        "\n",
        "epochs=range(1,len(acc)+1)\n",
        "\n",
        "plt.plot(epochs, acc, 'bo',label='Training acc')\n",
        "plt.plot(epochs,val_acc,'b',label='Validation acc')\n",
        "plt.title('Training and validation accuracy')\n",
        "plt.legend()\n",
        "\n",
        "plt.figure()\n",
        "\n",
        "plt.plot(epochs,loss,'bo',label='Training loss')\n",
        "plt.plot(epochs,val_loss,'b',label='Validation loss')\n",
        "plt.title('Training and validation loss')\n",
        "plt.legend()\n",
        "\n",
        "plt.show()\n"
      ],
      "execution_count": 0,
      "outputs": []
    }
  ]
}